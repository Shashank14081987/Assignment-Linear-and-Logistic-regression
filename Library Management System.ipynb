{
  "nbformat": 4,
  "nbformat_minor": 0,
  "metadata": {
    "colab": {
      "provenance": [],
      "authorship_tag": "ABX9TyPZ8OSbm/e/xOGIDJ3/8EV4",
      "include_colab_link": true
    },
    "kernelspec": {
      "name": "python3",
      "display_name": "Python 3"
    },
    "language_info": {
      "name": "python"
    }
  },
  "cells": [
    {
      "cell_type": "markdown",
      "metadata": {
        "id": "view-in-github",
        "colab_type": "text"
      },
      "source": [
        "<a href=\"https://colab.research.google.com/github/Shashank14081987/Assignment-Linear-and-Logistic-regression/blob/main/Library%20Management%20System.ipynb\" target=\"_parent\"><img src=\"https://colab.research.google.com/assets/colab-badge.svg\" alt=\"Open In Colab\"/></a>"
      ]
    },
    {
      "cell_type": "code",
      "execution_count": 1,
      "metadata": {
        "colab": {
          "base_uri": "https://localhost:8080/"
        },
        "id": "KiksMbEfqcCd",
        "outputId": "47712c75-50db-4971-efb1-ecc263751dce"
      },
      "outputs": [
        {
          "output_type": "stream",
          "name": "stdout",
          "text": [
            "Welcome to the Library Management System!\n"
          ]
        }
      ],
      "source": [
        "# Welcome Message\n",
        "print(\"Welcome to the Library Management System!\")\n",
        "\n",
        "# Initial Library with some sample books\n",
        "library = {\n",
        "    \"Python Basics\": {\"author\": \"Test\", \"available\": True},\n",
        "    \"Data Science\": {\"author\": \"Test1\", \"available\": False}\n",
        "}\n",
        "\n",
        "# Function to display all books with their details\n",
        "def display_books():\n",
        "    if not library:\n",
        "        print(\"No books available in the library.\")\n",
        "    else:\n",
        "        print(\"List of Books in the Library:\")\n",
        "        for title, details in library.items():\n",
        "            status = \"Available\" if details[\"available\"] else \"Issued\"\n",
        "            print(f\"Title: {title}, Author: {details['author']}, Status: {status}\")\n"
      ]
    },
    {
      "cell_type": "code",
      "source": [
        "# Function to add a new book\n",
        "def add_book():\n",
        "    title = input(\"Enter the book title: \")\n",
        "    author = input(\"Enter the author's name: \")\n",
        "\n",
        "    if title in library:\n",
        "        print(\"This book already exists in the library!\")\n",
        "    else:\n",
        "        library[title] = {\"author\": author, \"available\": True}\n",
        "        print(f\"Book '{title}' by {author} added to the library.\")\n"
      ],
      "metadata": {
        "id": "DXM3rqcKqirE"
      },
      "execution_count": 2,
      "outputs": []
    },
    {
      "cell_type": "code",
      "source": [
        "# Function to issue a book\n",
        "def issue_book():\n",
        "    title = input(\"Enter the title of the book you want to issue: \")\n",
        "    if title in library:\n",
        "        if library[title][\"available\"]:\n",
        "            name = input(\"Enter your name: \")\n",
        "            library[title][\"available\"] = False\n",
        "            print(f\"Book '{title}' has been issued to {name}.\")\n",
        "        else:\n",
        "            print(f\"Sorry, the book '{title}' is already issued.\")\n",
        "    else:\n",
        "        print(f\"Sorry, the book '{title}' is not available in the library.\")\n"
      ],
      "metadata": {
        "id": "zDrDXxZ-qo4m"
      },
      "execution_count": 3,
      "outputs": []
    },
    {
      "cell_type": "code",
      "source": [
        "# Function to return a book\n",
        "def return_book():\n",
        "    title = input(\"Enter the title of the book you want to return: \")\n",
        "    if title in library:\n",
        "        if not library[title][\"available\"]:\n",
        "            library[title][\"available\"] = True\n",
        "            print(f\"Book '{title}' has been returned and is now available.\")\n",
        "        else:\n",
        "            print(f\"Book '{title}' was not issued.\")\n",
        "    else:\n",
        "        print(f\"Sorry, the book '{title}' is not available in the library.\")\n"
      ],
      "metadata": {
        "id": "tR75bn__qp2H"
      },
      "execution_count": 4,
      "outputs": []
    },
    {
      "cell_type": "code",
      "source": [
        "# Login System\n",
        "credentials = {\"admin\": \"admin1\", \"librarian\": \"library1\"}\n",
        "\n",
        "def login():\n",
        "    attempts = 3\n",
        "    while attempts > 0:\n",
        "        username = input(\"Enter username: \")\n",
        "        password = input(\"Enter password: \")\n",
        "\n",
        "        if username in credentials and credentials[username] == password:\n",
        "            print(\"Login successful!\")\n",
        "            return username\n",
        "        else:\n",
        "            attempts -= 1\n",
        "            print(f\"Incorrect credentials. You have {attempts} attempts left.\")\n",
        "\n",
        "    print(\"Too many failed attempts. Exiting the system.\")\n",
        "    exit()\n"
      ],
      "metadata": {
        "id": "29poiBQgqu_Z"
      },
      "execution_count": 9,
      "outputs": []
    },
    {
      "cell_type": "code",
      "source": [
        "# Function to view all issued books\n",
        "def view_issued_books():\n",
        "    issued_books = [(title, details[\"author\"]) for title, details in library.items() if not details[\"available\"]]\n",
        "\n",
        "    if not issued_books:\n",
        "        print(\"No books are currently issued.\")\n",
        "    else:\n",
        "        print(\"Issued Books:\")\n",
        "        for title, author in issued_books:\n",
        "            print(f\"Title: {title}, Author: {author}\")\n"
      ],
      "metadata": {
        "id": "wTeh_VY7q1AL"
      },
      "execution_count": 10,
      "outputs": []
    },
    {
      "cell_type": "code",
      "source": [
        "def main():\n",
        "    # Login system\n",
        "    user = login()\n",
        "\n",
        "    while True:\n",
        "        print(\"\\nLibrary Management System\")\n",
        "        print(\"1. View Books\")\n",
        "        print(\"2. Add a Book\")\n",
        "        print(\"3. Issue a Book\")\n",
        "        print(\"4. Return a Book\")\n",
        "        print(\"5. View Issued Books\")\n",
        "        print(\"6. Exit\")\n",
        "\n",
        "        choice = input(\"Enter your choice: \")\n",
        "\n",
        "        if choice == \"1\":\n",
        "            display_books()\n",
        "        elif choice == \"2\":\n",
        "            add_book()\n",
        "        elif choice == \"3\":\n",
        "            issue_book()\n",
        "        elif choice == \"4\":\n",
        "            return_book()\n",
        "        elif choice == \"5\":\n",
        "            view_issued_books()\n",
        "        elif choice == \"6\":\n",
        "            print(\"Exiting the system. Goodbye!\")\n",
        "            break\n",
        "        else:\n",
        "            print(\"Invalid choice. Please try again.\")\n",
        "\n",
        "# Run the main function\n",
        "main()\n"
      ],
      "metadata": {
        "colab": {
          "base_uri": "https://localhost:8080/"
        },
        "id": "789UNkvGq4uC",
        "outputId": "fac3f5a7-b22c-4474-91d7-e6af2f03e737"
      },
      "execution_count": null,
      "outputs": [
        {
          "output_type": "stream",
          "name": "stdout",
          "text": [
            "Enter username: admin\n",
            "Enter password: library\n",
            "Incorrect credentials. You have 2 attempts left.\n",
            "Enter username: admin1\n",
            "Enter password: library1\n",
            "Incorrect credentials. You have 1 attempts left.\n",
            "Enter username: admin1\n",
            "Enter password: library1\n",
            "Incorrect credentials. You have 0 attempts left.\n",
            "Too many failed attempts. Exiting the system.\n",
            "\n",
            "Library Management System\n",
            "1. View Books\n",
            "2. Add a Book\n",
            "3. Issue a Book\n",
            "4. Return a Book\n",
            "5. View Issued Books\n",
            "6. Exit\n",
            "Enter your choice: 2\n",
            "Enter the book title: story\n",
            "Enter the author's name: Ram prasad\n",
            "Book 'story' by Ram prasad added to the library.\n",
            "\n",
            "Library Management System\n",
            "1. View Books\n",
            "2. Add a Book\n",
            "3. Issue a Book\n",
            "4. Return a Book\n",
            "5. View Issued Books\n",
            "6. Exit\n",
            "Enter your choice: 2\n",
            "Enter the book title: Novel\n",
            "Enter the author's name: Shyam\n",
            "Book 'Novel' by Shyam added to the library.\n",
            "\n",
            "Library Management System\n",
            "1. View Books\n",
            "2. Add a Book\n",
            "3. Issue a Book\n",
            "4. Return a Book\n",
            "5. View Issued Books\n",
            "6. Exit\n",
            "Enter your choice: 3\n",
            "Enter the title of the book you want to issue: story\n",
            "Enter your name: Sanju\n",
            "Book 'story' has been issued to Sanju.\n",
            "\n",
            "Library Management System\n",
            "1. View Books\n",
            "2. Add a Book\n",
            "3. Issue a Book\n",
            "4. Return a Book\n",
            "5. View Issued Books\n",
            "6. Exit\n"
          ]
        }
      ]
    }
  ]
}